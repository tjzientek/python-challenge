{
 "cells": [
  {
   "cell_type": "code",
   "execution_count": 75,
   "metadata": {},
   "outputs": [
    {
     "name": "stdout",
     "output_type": "stream",
     "text": [
      "Min: 22\n",
      "Max: 35\n",
      "Financial Analysis\n",
      "-----------------------------\n",
      "Total Months: 41\n",
      "Total Revenue: $18,971,412\n",
      "Average Revenue Change: $462,717\n",
      "                                                 Date\n",
      "35  Greatest Increase in Revenue: Sep-15 ($    Rev...\n",
      "22    Greatest Decrease in Revenue: Aug-14 ($    Rev...\n",
      "Name: Date, dtype: object\n"
     ]
    }
   ],
   "source": [
    "import pandas as pd\n",
    "import numpy as np\n",
    "\n",
    "file1 = \"raw_data/budget_data_1.csv\"\n",
    "file2 = \"raw_data/budget_data_2.csv\"\n",
    "\n",
    "df1 = pd.read_csv(file1,low_memory=False)\n",
    "\n",
    "df1_array = df1[\"Date\"].unique()\n",
    "df1_minpos = df1[\"Revenue\"].idxmin()\n",
    "print(\"Min: \" + str(df1_minpos))\n",
    "df1_maxpos = df1['Revenue'].idxmax()\n",
    "print(\"Max: \" + str(df1_maxpos))\n",
    "df1_totalrev = df1[\"Revenue\"].sum()\n",
    "df1_avgrev = df1[\"Revenue\"].mean()\n",
    "\n",
    "minDate = df1.loc[[df1_minpos],'Date']\n",
    "minRevenue = df1.iloc[[df1_minpos],[1]]\n",
    "maxDate = df1.iloc[[df1_maxpos],[0]]\n",
    "maxRevenue = df1.iloc[[df1_maxpos],[1]]\n",
    "\n",
    "\n",
    "print(\"Financial Analysis\")\n",
    "print(\"-----------------------------\")\n",
    "print(\"Total Months: \" + str(len(df1_array)))\n",
    "print(\"Total Revenue: ${0:,.0f}\".format(df1_totalrev))\n",
    "print(\"Average Revenue Change: ${0:,.0f}\".format(df1_avgrev))\n",
    "print(\"Greatest Increase in Revenue: \" + maxDate + \" ($\" + str(maxRevenue) + \")\")\n",
    "print(\"Greatest Decrease in Revenue: \" + minDate + \" ($\" + str(minRevenue) + \")\")\n",
    "\n",
    "#print(\"Max: \" + str(df1_maxpos) + \":\")\n",
    "#print(\"Min: \" + str(df1_minpos) + \":\")\n",
    "#print(\"Max Date:\" + str(maxDate))\n",
    "#print(\"Min Date:\" + str(minDate))"
   ]
  },
  {
   "cell_type": "code",
   "execution_count": null,
   "metadata": {},
   "outputs": [],
   "source": []
  }
 ],
 "metadata": {
  "kernelspec": {
   "display_name": "Python 3",
   "language": "python",
   "name": "python3"
  },
  "language_info": {
   "codemirror_mode": {
    "name": "ipython",
    "version": 3
   },
   "file_extension": ".py",
   "mimetype": "text/x-python",
   "name": "python",
   "nbconvert_exporter": "python",
   "pygments_lexer": "ipython3",
   "version": "3.6.4"
  }
 },
 "nbformat": 4,
 "nbformat_minor": 2
}
